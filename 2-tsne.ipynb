{
 "cells": [
  {
   "cell_type": "code",
   "execution_count": null,
   "metadata": {},
   "outputs": [],
   "source": [
    "from gensim.models import Word2Vec\n",
    "import gensim.downloader as api\n",
    "import pprint\n",
    "import matplotlib.pyplot as plt\n",
    "from sklearn.manifold import TSNE\n",
    "import numpy as np\n",
    "\n",
    "def tsne_plot(models, words, seed=23):\n",
    "    \"\"\"Creates a TSNE model & plots for multiple word models for the given words\"\"\"\n",
    "    plt.figure(figsize=(len(models)*30, len(models)*30))\n",
    "    model_ix = 0\n",
    "    \n",
    "    for model in models:\n",
    "        labels = []\n",
    "        tokens = []\n",
    "        \n",
    "        for word in words:\n",
    "            tokens.append(model[word])\n",
    "            labels.append(word)\n",
    "        \n",
    "        tsne_model = TSNE(perplexity=40, n_components=2, init='pca', n_iter=2500, random_state=seed)\n",
    "        new_values = tsne_model.fit_transform(np.array(tokens))\n",
    "        x = []\n",
    "        y = []\n",
    "        \n",
    "        for value in new_values:\n",
    "            x.append(value[0])\n",
    "            y.append(value[1])\n",
    "        \n",
    "        model_ix += 1\n",
    "        plt.subplot(10, 10, model_ix)\n",
    "        for i in range(len(x)):\n",
    "            plt.scatter(x[i], y[i])\n",
    "            plt.annotate(labels[i], xy=(x[i], y[i]), xytext=(5, 2), textcoords='offset points', ha='right', va='bottom')\n",
    "    \n",
    "    plt.tight_layout()\n",
    "    plt.show()\n",
    "\n",
    "v2w_model = api.load('word2vec-google-news-300')\n",
    "glove_model = api.load('glove-twitter-25')\n",
    "print(\"Words most similar to 'computer' with Word2Vec and GloVe respectively:\")\n",
    "pprint.pprint(v2w_model.most_similar(\"computer\")[:3])\n",
    "pprint.pprint(glove_model.most_similar(\"computer\")[:3])\n",
    "\n",
    "pprint.pprint(\"2D projection of some common words of both models\")\n",
    "sample_common_words = list(set(v2w_model.index_to_key[100:10000]) & set(glove_model.index_to_key[100:10000]))[:100]\n",
    "tsne_plot([v2w_model, glove_model], sample_common_words)"
   ]
  }
 ],
 "metadata": {
  "kernelspec": {
   "display_name": "capstone",
   "language": "python",
   "name": "python3"
  },
  "language_info": {
   "codemirror_mode": {
    "name": "ipython",
    "version": 3
   },
   "file_extension": ".py",
   "mimetype": "text/x-python",
   "name": "python",
   "nbconvert_exporter": "python",
   "pygments_lexer": "ipython3",
   "version": "3.13.3"
  }
 },
 "nbformat": 4,
 "nbformat_minor": 2
}
