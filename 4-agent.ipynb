{
 "cells": [
  {
   "cell_type": "code",
   "execution_count": 1,
   "metadata": {},
   "outputs": [
    {
     "ename": "ModuleNotFoundError",
     "evalue": "No module named 'langchain_vertexai'",
     "output_type": "error",
     "traceback": [
      "\u001b[31m---------------------------------------------------------------------------\u001b[39m",
      "\u001b[31mModuleNotFoundError\u001b[39m                       Traceback (most recent call last)",
      "\u001b[36mCell\u001b[39m\u001b[36m \u001b[39m\u001b[32mIn[1]\u001b[39m\u001b[32m, line 4\u001b[39m\n\u001b[32m      2\u001b[39m \u001b[38;5;28;01mfrom\u001b[39;00m\u001b[38;5;250m \u001b[39m\u001b[34;01mlangchain_community\u001b[39;00m\u001b[34;01m.\u001b[39;00m\u001b[34;01mutilities\u001b[39;00m\u001b[38;5;250m \u001b[39m\u001b[38;5;28;01mimport\u001b[39;00m SerpAPIWrapper\n\u001b[32m      3\u001b[39m \u001b[38;5;28;01mfrom\u001b[39;00m\u001b[38;5;250m \u001b[39m\u001b[34;01mlangchain_community\u001b[39;00m\u001b[34;01m.\u001b[39;00m\u001b[34;01mtools\u001b[39;00m\u001b[38;5;250m \u001b[39m\u001b[38;5;28;01mimport\u001b[39;00m GooglePlacesTool\n\u001b[32m----> \u001b[39m\u001b[32m4\u001b[39m \u001b[38;5;28;01mfrom\u001b[39;00m\u001b[38;5;250m \u001b[39m\u001b[34;01mlangchain_vertexai\u001b[39;00m\u001b[38;5;250m \u001b[39m\u001b[38;5;28;01mimport\u001b[39;00m ChatVertexAI\n\u001b[32m      5\u001b[39m \u001b[38;5;28;01mfrom\u001b[39;00m\u001b[38;5;250m \u001b[39m\u001b[34;01mlangchain\u001b[39;00m\u001b[34;01m.\u001b[39;00m\u001b[34;01magents\u001b[39;00m\u001b[38;5;250m \u001b[39m\u001b[38;5;28;01mimport\u001b[39;00m create_react_agent, AgentExecutor\n\u001b[32m      7\u001b[39m \u001b[38;5;66;03m# Initialize the language model (using Gemini Flash in this example)\u001b[39;00m\n",
      "\u001b[31mModuleNotFoundError\u001b[39m: No module named 'langchain_vertexai'"
     ]
    }
   ],
   "source": [
    "from langchain_core.tools import tool\n",
    "from langchain_community.utilities import SerpAPIWrapper\n",
    "from langchain_community.tools import GooglePlacesTool\n",
    "from langchain_vertexai import ChatVertexAI\n",
    "from langchain.agents import create_react_agent, AgentExecutor\n",
    "\n",
    "# Initialize the language model (using Gemini Flash in this example)\n",
    "model = ChatVertexAI(model_name=\"gemini-2.0-flash-001\")\n",
    "\n",
    "# Define some simple tools\n",
    "@tool\n",
    "def search(query: str):\n",
    "    \"\"\"Use the SerpAPI to run a Google Search.\"\"\"\n",
    "    search = SerpAPIWrapper()\n",
    "    return search.run(query)\n",
    "\n",
    "@tool\n",
    "def places(query: str):\n",
    "    \"\"\"Use the Google Places API to run a Google Places Query.\"\"\"\n",
    "    places_api = GooglePlacesTool()\n",
    "    return places_api.run(query)\n",
    "\n",
    "tools = [search, places]\n",
    "\n",
    "# Create the agent using the ReAct framework\n",
    "prompt = create_react_agent(model, tools)\n",
    "agent_executor = AgentExecutor(agent=prompt, tools=tools, verbose=True)\n",
    "\n",
    "# Run the agent with a sample query\n",
    "query = \"Who is the current CEO of Google? What is their alma mater?\"\n",
    "response = agent_executor.invoke({\"input\": query})\n",
    "\n",
    "# Print the response\n",
    "print(response[\"output\"])"
   ]
  }
 ],
 "metadata": {
  "kernelspec": {
   "display_name": "capstone",
   "language": "python",
   "name": "python3"
  },
  "language_info": {
   "codemirror_mode": {
    "name": "ipython",
    "version": 3
   },
   "file_extension": ".py",
   "mimetype": "text/x-python",
   "name": "python",
   "nbconvert_exporter": "python",
   "pygments_lexer": "ipython3",
   "version": "3.13.3"
  }
 },
 "nbformat": 4,
 "nbformat_minor": 2
}
