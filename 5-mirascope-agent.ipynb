{
 "cells": [
  {
   "cell_type": "code",
   "execution_count": null,
   "metadata": {},
   "outputs": [],
   "source": [
    "import os\n",
    "import asyncio\n",
    "from datetime import datetime\n",
    "from pydantic import BaseModel, PrivateAttr\n",
    "from mirascope.core import BaseMessageParam, google, prompt_template\n",
    "import logging\n",
    "\n",
    "# Configure logging\n",
    "logging.basicConfig(level=logging.INFO)\n",
    "logger = logging.getLogger(__name__)"
   ]
  },
  {
   "cell_type": "code",
   "execution_count": 2,
   "metadata": {},
   "outputs": [],
   "source": [
    "maps_key = os.environ.get(\"GOOGLE_MAPS_API_KEY\")\n"
   ]
  },
  {
   "cell_type": "code",
   "execution_count": 3,
   "metadata": {},
   "outputs": [
    {
     "name": "stderr",
     "output_type": "stream",
     "text": [
      "INFO:googlemaps.client:API queries_quota: 60\n"
     ]
    },
    {
     "name": "stdout",
     "output_type": "stream",
     "text": [
      "[{'address_components': [{'long_name': '1600', 'short_name': '1600', 'types': ['street_number']}, {'long_name': 'Amphitheatre Parkway', 'short_name': 'Amphitheatre Pkwy', 'types': ['route']}, {'long_name': 'Mountain View', 'short_name': 'Mountain View', 'types': ['locality', 'political']}, {'long_name': 'Santa Clara County', 'short_name': 'Santa Clara County', 'types': ['administrative_area_level_2', 'political']}, {'long_name': 'California', 'short_name': 'CA', 'types': ['administrative_area_level_1', 'political']}, {'long_name': 'United States', 'short_name': 'US', 'types': ['country', 'political']}, {'long_name': '94043', 'short_name': '94043', 'types': ['postal_code']}, {'long_name': '1351', 'short_name': '1351', 'types': ['postal_code_suffix']}], 'formatted_address': '1600 Amphitheatre Pkwy, Mountain View, CA 94043, USA', 'geometry': {'location': {'lat': 37.4220108, 'lng': -122.084748}, 'location_type': 'ROOFTOP', 'viewport': {'northeast': {'lat': 37.4233655802915, 'lng': -122.0827777197085}, 'southwest': {'lat': 37.4206676197085, 'lng': -122.0854756802915}}}, 'navigation_points': [{'location': {'latitude': 37.4209933, 'longitude': -122.0829591}}, {'location': {'latitude': 37.4211274, 'longitude': -122.0852903}}, {'location': {'latitude': 37.4229144, 'longitude': -122.0834105}}, {'location': {'latitude': 37.4230375, 'longitude': -122.0850145}}], 'place_id': 'ChIJF4Yf2Ry7j4AR__1AkytDyAE', 'plus_code': {'compound_code': 'CWC8+R4 Mountain View, CA', 'global_code': '849VCWC8+R4'}, 'types': ['street_address']}]\n",
      "[{'address_components': [{'long_name': '277', 'short_name': '277', 'types': ['street_number']}, {'long_name': 'Bedford Avenue', 'short_name': 'Bedford Ave', 'types': ['route']}, {'long_name': 'Williamsburg', 'short_name': 'Williamsburg', 'types': ['neighborhood', 'political']}, {'long_name': 'Brooklyn', 'short_name': 'Brooklyn', 'types': ['political', 'sublocality', 'sublocality_level_1']}, {'long_name': 'Kings County', 'short_name': 'Kings County', 'types': ['administrative_area_level_2', 'political']}, {'long_name': 'New York', 'short_name': 'NY', 'types': ['administrative_area_level_1', 'political']}, {'long_name': 'United States', 'short_name': 'US', 'types': ['country', 'political']}, {'long_name': '11211', 'short_name': '11211', 'types': ['postal_code']}], 'formatted_address': '277 Bedford Ave, Brooklyn, NY 11211, USA', 'geometry': {'location': {'lat': 40.7142205, 'lng': -73.9612903}, 'location_type': 'ROOFTOP', 'viewport': {'northeast': {'lat': 40.71556948029149, 'lng': -73.95994131970849}, 'southwest': {'lat': 40.7128715197085, 'lng': -73.9626392802915}}}, 'navigation_points': [{'location': {'latitude': 40.7142498, 'longitude': -73.9613696}}], 'place_id': 'ChIJd8BlQ2BZwokRAFUEcm_qrcA', 'plus_code': {'compound_code': 'P27Q+MF Brooklyn, NY, USA', 'global_code': '87G8P27Q+MF'}, 'types': ['street_address']}, {'address_components': [{'long_name': '279', 'short_name': '279', 'types': ['street_number']}, {'long_name': 'Bedford Avenue', 'short_name': 'Bedford Ave', 'types': ['route']}, {'long_name': 'Williamsburg', 'short_name': 'Williamsburg', 'types': ['neighborhood', 'political']}, {'long_name': 'Brooklyn', 'short_name': 'Brooklyn', 'types': ['political', 'sublocality', 'sublocality_level_1']}, {'long_name': 'Kings County', 'short_name': 'Kings County', 'types': ['administrative_area_level_2', 'political']}, {'long_name': 'New York', 'short_name': 'NY', 'types': ['administrative_area_level_1', 'political']}, {'long_name': 'United States', 'short_name': 'US', 'types': ['country', 'political']}, {'long_name': '11211', 'short_name': '11211', 'types': ['postal_code']}, {'long_name': '4203', 'short_name': '4203', 'types': ['postal_code_suffix']}], 'formatted_address': '279 Bedford Ave, Brooklyn, NY 11211, USA', 'geometry': {'bounds': {'northeast': {'lat': 40.7142628, 'lng': -73.9612131}, 'southwest': {'lat': 40.7141534, 'lng': -73.9613792}}, 'location': {'lat': 40.7142015, 'lng': -73.96130769999999}, 'location_type': 'ROOFTOP', 'viewport': {'northeast': {'lat': 40.7155570802915, 'lng': -73.95994716970849}, 'southwest': {'lat': 40.7128591197085, 'lng': -73.96264513029149}}}, 'navigation_points': [{'location': {'latitude': 40.7142572, 'longitude': -73.9613713}}], 'place_id': 'ChIJRYYERGBZwokRAM4n1GlcYX4', 'types': ['premise', 'street_address']}, {'address_components': [{'long_name': '277', 'short_name': '277', 'types': ['street_number']}, {'long_name': 'Bedford Avenue', 'short_name': 'Bedford Ave', 'types': ['route']}, {'long_name': 'Williamsburg', 'short_name': 'Williamsburg', 'types': ['neighborhood', 'political']}, {'long_name': 'Brooklyn', 'short_name': 'Brooklyn', 'types': ['political', 'sublocality', 'sublocality_level_1']}, {'long_name': 'Kings County', 'short_name': 'Kings County', 'types': ['administrative_area_level_2', 'political']}, {'long_name': 'New York', 'short_name': 'NY', 'types': ['administrative_area_level_1', 'political']}, {'long_name': 'United States', 'short_name': 'US', 'types': ['country', 'political']}, {'long_name': '11211', 'short_name': '11211', 'types': ['postal_code']}], 'formatted_address': '277 Bedford Ave, Brooklyn, NY 11211, USA', 'geometry': {'location': {'lat': 40.7142205, 'lng': -73.9612903}, 'location_type': 'ROOFTOP', 'viewport': {'northeast': {'lat': 40.71556948029149, 'lng': -73.95994131970849}, 'southwest': {'lat': 40.7128715197085, 'lng': -73.9626392802915}}}, 'navigation_points': [{'location': {'latitude': 40.7142572, 'longitude': -73.9613713}}], 'place_id': 'ChIJIdIK_DJZwokRImC6xolwWOM', 'plus_code': {'compound_code': 'P27Q+MF Brooklyn, NY, USA', 'global_code': '87G8P27Q+MF'}, 'types': ['establishment', 'food', 'point_of_interest', 'restaurant']}, {'address_components': [{'long_name': '294', 'short_name': '294', 'types': ['street_number']}, {'long_name': 'Bedford Avenue', 'short_name': 'Bedford Ave', 'types': ['route']}, {'long_name': 'Williamsburg', 'short_name': 'Williamsburg', 'types': ['neighborhood', 'political']}, {'long_name': 'Brooklyn', 'short_name': 'Brooklyn', 'types': ['political', 'sublocality', 'sublocality_level_1']}, {'long_name': 'Kings County', 'short_name': 'Kings County', 'types': ['administrative_area_level_2', 'political']}, {'long_name': 'New York', 'short_name': 'NY', 'types': ['administrative_area_level_1', 'political']}, {'long_name': 'United States', 'short_name': 'US', 'types': ['country', 'political']}, {'long_name': '11249', 'short_name': '11249', 'types': ['postal_code']}], 'formatted_address': '294 Bedford Ave, Brooklyn, NY 11249, USA', 'geometry': {'location': {'lat': 40.7143102, 'lng': -73.9615663}, 'location_type': 'ROOFTOP', 'viewport': {'northeast': {'lat': 40.7156591802915, 'lng': -73.9602173197085}, 'southwest': {'lat': 40.7129612197085, 'lng': -73.96291528029151}}}, 'navigation_points': [{'location': {'latitude': 40.7143419, 'longitude': -73.9615}}], 'place_id': 'ChIJCWPRWmBZwokR2vqFmfc2-UA', 'types': ['street_address', 'subpremise']}, {'address_components': [{'long_name': '298', 'short_name': '298', 'types': ['street_number']}, {'long_name': 'Bedford Avenue', 'short_name': 'Bedford Ave', 'types': ['route']}, {'long_name': 'Williamsburg', 'short_name': 'Williamsburg', 'types': ['neighborhood', 'political']}, {'long_name': 'Brooklyn', 'short_name': 'Brooklyn', 'types': ['political', 'sublocality', 'sublocality_level_1']}, {'long_name': 'Kings County', 'short_name': 'Kings County', 'types': ['administrative_area_level_2', 'political']}, {'long_name': 'New York', 'short_name': 'NY', 'types': ['administrative_area_level_1', 'political']}, {'long_name': 'United States', 'short_name': 'US', 'types': ['country', 'political']}, {'long_name': '11249', 'short_name': '11249', 'types': ['postal_code']}], 'formatted_address': '298 Bedford Ave, Brooklyn, NY 11249, USA', 'geometry': {'location': {'lat': 40.714232, 'lng': -73.9614779}, 'location_type': 'RANGE_INTERPOLATED', 'viewport': {'northeast': {'lat': 40.7155809802915, 'lng': -73.96012891970851}, 'southwest': {'lat': 40.7128830197085, 'lng': -73.96282688029152}}}, 'place_id': 'EigyOTggQmVkZm9yZCBBdmUsIEJyb29rbHluLCBOWSAxMTI0OSwgVVNBIhsSGQoUChIJ8ThWRGBZwokR3U1zUisk3LUQqgI', 'types': ['street_address']}, {'address_components': [{'long_name': '291-275', 'short_name': '291-275', 'types': ['street_number']}, {'long_name': 'Bedford Avenue', 'short_name': 'Bedford Ave', 'types': ['route']}, {'long_name': 'Williamsburg', 'short_name': 'Williamsburg', 'types': ['neighborhood', 'political']}, {'long_name': 'Brooklyn', 'short_name': 'Brooklyn', 'types': ['political', 'sublocality', 'sublocality_level_1']}, {'long_name': 'Kings County', 'short_name': 'Kings County', 'types': ['administrative_area_level_2', 'political']}, {'long_name': 'New York', 'short_name': 'NY', 'types': ['administrative_area_level_1', 'political']}, {'long_name': 'United States', 'short_name': 'US', 'types': ['country', 'political']}, {'long_name': '11211', 'short_name': '11211', 'types': ['postal_code']}], 'formatted_address': '291-275 Bedford Ave, Brooklyn, NY 11211, USA', 'geometry': {'bounds': {'northeast': {'lat': 40.7145043, 'lng': -73.9612941}, 'southwest': {'lat': 40.7139056, 'lng': -73.96168589999999}}, 'location': {'lat': 40.7142065, 'lng': -73.9614941}, 'location_type': 'GEOMETRIC_CENTER', 'viewport': {'northeast': {'lat': 40.7155539302915, 'lng': -73.96014101970849}, 'southwest': {'lat': 40.7128559697085, 'lng': -73.9628389802915}}}, 'place_id': 'ChIJ8ThWRGBZwokR3E1zUisk3LU', 'types': ['route']}, {'address_components': [{'long_name': 'P27Q+MC', 'short_name': 'P27Q+MC', 'types': ['plus_code']}, {'long_name': 'New York', 'short_name': 'New York', 'types': ['locality', 'political']}, {'long_name': 'New York', 'short_name': 'NY', 'types': ['administrative_area_level_1', 'political']}, {'long_name': 'United States', 'short_name': 'US', 'types': ['country', 'political']}], 'formatted_address': 'P27Q+MC New York, NY, USA', 'geometry': {'bounds': {'northeast': {'lat': 40.71425, 'lng': -73.96137499999999}, 'southwest': {'lat': 40.714125, 'lng': -73.9615}}, 'location': {'lat': 40.714224, 'lng': -73.961452}, 'location_type': 'GEOMETRIC_CENTER', 'viewport': {'northeast': {'lat': 40.71553648029149, 'lng': -73.96008851970849}, 'southwest': {'lat': 40.71283851970849, 'lng': -73.96278648029151}}}, 'place_id': 'GhIJWAIpsWtbREARHyv4bYh9UsA', 'plus_code': {'compound_code': 'P27Q+MC New York, NY, USA', 'global_code': '87G8P27Q+MC'}, 'types': ['plus_code']}, {'address_components': [{'long_name': 'South Williamsburg', 'short_name': 'South Williamsburg', 'types': ['neighborhood', 'political']}, {'long_name': 'Brooklyn', 'short_name': 'Brooklyn', 'types': ['political', 'sublocality', 'sublocality_level_1']}, {'long_name': 'Kings County', 'short_name': 'Kings County', 'types': ['administrative_area_level_2', 'political']}, {'long_name': 'New York', 'short_name': 'NY', 'types': ['administrative_area_level_1', 'political']}, {'long_name': 'United States', 'short_name': 'US', 'types': ['country', 'political']}], 'formatted_address': 'South Williamsburg, Brooklyn, NY, USA', 'geometry': {'bounds': {'northeast': {'lat': 40.7167119, 'lng': -73.9420904}, 'southwest': {'lat': 40.6984866, 'lng': -73.9699432}}, 'location': {'lat': 40.7043921, 'lng': -73.9565551}, 'location_type': 'APPROXIMATE', 'viewport': {'northeast': {'lat': 40.7167119, 'lng': -73.9420904}, 'southwest': {'lat': 40.6984866, 'lng': -73.9699432}}}, 'place_id': 'ChIJR3_ODdlbwokRYtN19kNtcuk', 'types': ['neighborhood', 'political']}, {'address_components': [{'long_name': '11211', 'short_name': '11211', 'types': ['postal_code']}, {'long_name': 'Brooklyn', 'short_name': 'Brooklyn', 'types': ['political', 'sublocality', 'sublocality_level_1']}, {'long_name': 'New York', 'short_name': 'New York', 'types': ['locality', 'political']}, {'long_name': 'New York', 'short_name': 'NY', 'types': ['administrative_area_level_1', 'political']}, {'long_name': 'United States', 'short_name': 'US', 'types': ['country', 'political']}], 'formatted_address': 'Brooklyn, NY 11211, USA', 'geometry': {'bounds': {'northeast': {'lat': 40.7280089, 'lng': -73.9207299}, 'southwest': {'lat': 40.7008331, 'lng': -73.9644697}}, 'location': {'lat': 40.7093358, 'lng': -73.9565551}, 'location_type': 'APPROXIMATE', 'viewport': {'northeast': {'lat': 40.7280089, 'lng': -73.9207299}, 'southwest': {'lat': 40.7008331, 'lng': -73.9644697}}}, 'place_id': 'ChIJvbEjlVdZwokR4KapM3WCFRw', 'types': ['postal_code']}, {'address_components': [{'long_name': 'Williamsburg', 'short_name': 'Williamsburg', 'types': ['neighborhood', 'political']}, {'long_name': 'Brooklyn', 'short_name': 'Brooklyn', 'types': ['political', 'sublocality', 'sublocality_level_1']}, {'long_name': 'Kings County', 'short_name': 'Kings County', 'types': ['administrative_area_level_2', 'political']}, {'long_name': 'New York', 'short_name': 'NY', 'types': ['administrative_area_level_1', 'political']}, {'long_name': 'United States', 'short_name': 'US', 'types': ['country', 'political']}], 'formatted_address': 'Williamsburg, Brooklyn, NY, USA', 'geometry': {'bounds': {'northeast': {'lat': 40.7251773, 'lng': -73.9369427}, 'southwest': {'lat': 40.6979329, 'lng': -73.96984499999999}}, 'location': {'lat': 40.7081156, 'lng': -73.9570696}, 'location_type': 'APPROXIMATE', 'viewport': {'northeast': {'lat': 40.7251773, 'lng': -73.9369427}, 'southwest': {'lat': 40.6979329, 'lng': -73.96984499999999}}}, 'place_id': 'ChIJQSrBBv1bwokRbNfFHCnyeYI', 'types': ['neighborhood', 'political']}, {'address_components': [{'long_name': 'Brooklyn', 'short_name': 'Brooklyn', 'types': ['political', 'sublocality', 'sublocality_level_1']}, {'long_name': 'Kings County', 'short_name': 'Kings County', 'types': ['administrative_area_level_2', 'political']}, {'long_name': 'New York', 'short_name': 'NY', 'types': ['administrative_area_level_1', 'political']}, {'long_name': 'United States', 'short_name': 'US', 'types': ['country', 'political']}], 'formatted_address': 'Brooklyn, NY, USA', 'geometry': {'bounds': {'northeast': {'lat': 40.7394209, 'lng': -73.8330411}, 'southwest': {'lat': 40.551042, 'lng': -74.05663}}, 'location': {'lat': 40.6781784, 'lng': -73.9441579}, 'location_type': 'APPROXIMATE', 'viewport': {'northeast': {'lat': 40.7394209, 'lng': -73.8330411}, 'southwest': {'lat': 40.551042, 'lng': -74.05663}}}, 'place_id': 'ChIJCSF8lBZEwokRhngABHRcdoI', 'types': ['political', 'sublocality', 'sublocality_level_1']}, {'address_components': [{'long_name': 'Kings County', 'short_name': 'Kings County', 'types': ['administrative_area_level_2', 'political']}, {'long_name': 'Brooklyn', 'short_name': 'Brooklyn', 'types': ['political', 'sublocality', 'sublocality_level_1']}, {'long_name': 'New York', 'short_name': 'NY', 'types': ['administrative_area_level_1', 'political']}, {'long_name': 'United States', 'short_name': 'US', 'types': ['country', 'political']}], 'formatted_address': 'Kings County, Brooklyn, NY, USA', 'geometry': {'bounds': {'northeast': {'lat': 40.7394209, 'lng': -73.8330411}, 'southwest': {'lat': 40.551042, 'lng': -74.05663}}, 'location': {'lat': 40.6528762, 'lng': -73.95949399999999}, 'location_type': 'APPROXIMATE', 'viewport': {'northeast': {'lat': 40.7394209, 'lng': -73.8330411}, 'southwest': {'lat': 40.551042, 'lng': -74.05663}}}, 'place_id': 'ChIJOwE7_GTtwokRs75rhW4_I6M', 'types': ['administrative_area_level_2', 'political']}, {'address_components': [{'long_name': 'New York', 'short_name': 'New York', 'types': ['locality', 'political']}, {'long_name': 'New York', 'short_name': 'NY', 'types': ['administrative_area_level_1', 'political']}, {'long_name': 'United States', 'short_name': 'US', 'types': ['country', 'political']}], 'formatted_address': 'New York, NY, USA', 'geometry': {'bounds': {'northeast': {'lat': 40.917705, 'lng': -73.700169}, 'southwest': {'lat': 40.476578, 'lng': -74.258843}}, 'location': {'lat': 40.7127753, 'lng': -74.0059728}, 'location_type': 'APPROXIMATE', 'viewport': {'northeast': {'lat': 40.917705, 'lng': -73.700169}, 'southwest': {'lat': 40.476578, 'lng': -74.258843}}}, 'place_id': 'ChIJOwg_06VPwokRYv534QaPC8g', 'types': ['locality', 'political']}, {'address_components': [{'long_name': 'New York', 'short_name': 'NY', 'types': ['administrative_area_level_1', 'political']}, {'long_name': 'United States', 'short_name': 'US', 'types': ['country', 'political']}], 'formatted_address': 'New York, USA', 'geometry': {'bounds': {'northeast': {'lat': 45.015861, 'lng': -71.777491}, 'southwest': {'lat': 40.476578, 'lng': -79.7625901}}, 'location': {'lat': 43.2994285, 'lng': -74.21793260000001}, 'location_type': 'APPROXIMATE', 'viewport': {'northeast': {'lat': 45.015861, 'lng': -71.777491}, 'southwest': {'lat': 40.476578, 'lng': -79.7625901}}}, 'place_id': 'ChIJqaUj8fBLzEwRZ5UY3sHGz90', 'types': ['administrative_area_level_1', 'political']}, {'address_components': [{'long_name': 'United States', 'short_name': 'US', 'types': ['country', 'political']}], 'formatted_address': 'United States', 'geometry': {'bounds': {'northeast': {'lat': 74.071038, 'lng': -66.885417}, 'southwest': {'lat': 18.7763, 'lng': 166.9999999}}, 'location': {'lat': 38.7945952, 'lng': -106.5348379}, 'location_type': 'APPROXIMATE', 'viewport': {'northeast': {'lat': 74.071038, 'lng': -66.885417}, 'southwest': {'lat': 18.7763, 'lng': 166.9999999}}}, 'place_id': 'ChIJCzYy5IS16lQRQrfeQ5K5Oxw', 'types': ['country', 'political']}]\n",
      "[{'bounds': {'northeast': {'lat': -33.8148242, 'lng': 151.208821}, 'southwest': {'lat': -33.8977872, 'lng': 151.0017686}}, 'copyrights': 'Powered by Google, ©2025 Google', 'legs': [{'arrival_time': {'text': '4:53\\u202fPM', 'time_zone': 'Australia/Sydney', 'value': 1744700003}, 'departure_time': {'text': '4:12\\u202fPM', 'time_zone': 'Australia/Sydney', 'value': 1744697531}, 'distance': {'text': '25.0 km', 'value': 25033}, 'duration': {'text': '41 mins', 'value': 2472}, 'end_address': 'Parramatta NSW 2150, Australia', 'end_location': {'lat': -33.8148242, 'lng': 151.0017686}, 'start_address': '483 George St, Sydney NSW 2000, Australia', 'start_location': {'lat': -33.8732056, 'lng': 151.2069231}, 'steps': [{'distance': {'text': '56 m', 'value': 56}, 'duration': {'text': '3 mins', 'value': 169}, 'end_location': {'lat': -33.8735668, 'lng': 151.2069088}, 'html_instructions': 'Walk to Town Hall', 'polyline': {'points': 'pzvmEgr{y[`Aa@Db@'}, 'start_location': {'lat': -33.8732056, 'lng': 151.2069231}, 'steps': [{'distance': {'text': '40 m', 'value': 40}, 'duration': {'text': '1 min', 'value': 31}, 'end_location': {'lat': -33.8735388, 'lng': 151.2070879}, 'polyline': {'points': 'pzvmEgr{y[`Aa@'}, 'start_location': {'lat': -33.8732056, 'lng': 151.2069231}, 'travel_mode': 'WALKING'}, {'distance': {'text': '1 m', 'value': 0}, 'duration': {'text': '1 min', 'value': 39}, 'end_location': {'lat': -33.8735388, 'lng': 151.2070879}, 'html_instructions': 'Take entrance <span class=\"location\">STR George St LR</span>', 'polyline': {'points': 'r|vmEis{y['}, 'start_location': {'lat': -33.8735388, 'lng': 151.2070879}, 'travel_mode': 'WALKING'}, {'distance': {'text': '1 m', 'value': 0}, 'duration': {'text': '1 min', 'value': 33}, 'end_location': {'lat': -33.8735388, 'lng': 151.2070879}, 'polyline': {'points': 'r|vmEis{y['}, 'start_location': {'lat': -33.8735388, 'lng': 151.2070879}, 'travel_mode': 'WALKING'}, {'distance': {'text': '16 m', 'value': 16}, 'duration': {'text': '1 min', 'value': 66}, 'end_location': {'lat': -33.8735668, 'lng': 151.2069088}, 'polyline': {'points': 'r|vmEis{y[Db@'}, 'start_location': {'lat': -33.8735388, 'lng': 151.2070879}, 'travel_mode': 'WALKING'}], 'travel_mode': 'WALKING'}, {'distance': {'text': '24.4 km', 'value': 24450}, 'duration': {'text': '30 mins', 'value': 1770}, 'end_location': {'lat': -33.8175443, 'lng': 151.0054982}, 'html_instructions': 'Train towards Penrith via Central', 'polyline': {'points': 'x|vmEer{y[?Ej@?fCRpCt@\\\\DN?TCRCZIRGTIf@]b@_@b@e@LQLWLWLULUl@m@t@i@x@c@z@]d@MVI\\\\I~AQn@CF@hAN@?L@H?H?^Dt@LZDHBB?H@LBZF~BZl@JH@@@TDhARd@JZH`@JB@LBd@NdA^PFPHb@TTLhAp@p@f@`DvEt@d@Z^PR^j@zAvBz@nAf@n@r@zALd@n@dAT^`@l@V\\\\j@n@PP@@RRNNVRTRZV~B`Bv@j@JHZXJHJHt@p@p@j@t@n@r@n@^^PNJL\\\\`@X\\\\JNVZf@l@^l@Zd@BFFJXf@p@nAf@bAP`@Zr@b@hAXr@`@fAXv@Z~@Rp@Pp@Lb@FZJd@RbAFf@Jl@Jn@Ff@Jh@Hj@FZLj@Ld@Pr@Pt@FZ^bBTbAJ`@Lh@Lj@FXNl@BJH\\\\XlANr@FVPl@Rr@h@pB\\\\zAV`ALl@Lf@HZLl@R~@FR?BDNBL^|APr@@FZvAJl@NbA\\\\~C@DFl@F`A@J@VBnA?Z@l@?j@BnA?xA?P?~A?^Av@Cx@G~ACz@Al@?xA?JAXAr@CVCXCTEZKt@Qt@Q|@GRGTK^[`AQf@Sd@IRWh@KTc@x@k@`AYj@OXQ^Sd@KTITKZCFCJ[jAI^ERAFCHENg@pBCHEROd@]nAELa@tAYhAQx@ABCPQdAIh@Ip@CJAJCj@ANAJ?RCf@?JAxA?N@z@?d@B`@?JD~@FrABV@`@NtB@D?DXxC@NNvADf@Db@D|@Bh@A|@AdAGdAKtAMbAc@bCUfAk@bCWvAEXGr@Gp@ALIbAGjA?jABzA@PNbBd@dELrANlBH`B?D?pACjBKjBIfAWdCGt@KdASnBQdAMp@S~@_@vAEPOn@Qt@YpAIb@WrAGVGTc@jBCJc@hBGTI^A@Sx@ABOl@g@rBCLKj@q@|CW`AELa@bB_@rAg@xAOd@ITSl@St@Mf@K`@Ox@QbAMt@QlAKr@K`AGv@Ez@EdBA`AC|@?LA|@Ct@Ap@ATAnAA\\\\CnACdAAd@Ad@C\\\\?@Cf@?BEh@Gz@K~@Il@Gd@It@G\\\\CRId@I^I`@U|@Qx@EPUt@?@Mt@IZGTOn@ABSt@]nA_@rAMh@Oj@Ql@Sj@Mb@Oj@Oj@Ol@Sv@On@K`@On@Ov@Ib@ERADAHCHId@Mn@Kh@On@Mn@Qx@Ov@St@S|@St@YhAQr@Kb@CJIZA?GVGRWx@Sn@M`@KXITABCFKXSf@MXMX_@z@Sd@S`@cAxBc@`AOZEJ{@lBSb@m@tA]p@s@hAa@n@S\\\\MTOTEJaAbBA@MRGLYh@Ub@S\\\\k@bAi@v@m@z@eAvAKLcBzBkBdCa@j@u@nAOVCDQVWf@_@v@g@pAWt@Of@W~@Sv@Ml@I`@WnAc@|BWpAQdAWdBWrBGb@OxACXCVCRYnC?B_@rDObBMz@AJOt@Mj@IZUt@AFKXYt@_@z@m@nAEJGJWb@S\\\\SXUXa@d@]^GF_@`@STUVk@h@w@r@_Ax@q@j@a@^ILQNi@l@c@n@W^GJm@dAs@pAi@~@IJk@z@WZ[\\\\CD[\\\\[\\\\_@`@STIJYZKNKLi@n@e@n@UZ_@h@[d@Ub@OXUd@Yn@Sj@Yx@Ut@Wv@]~@Wn@e@|@k@fA[l@A@OZOVO^EL]v@_@dAUn@EL[x@i@zA[~@?@Sp@IZMh@Ol@Id@S~@ETG\\\\CJKf@CJEPGPCNOt@EPKf@Ov@Or@S`AI\\\\?BWjAS`AUjASbAQv@In@CNG\\\\Gl@Gl@Gp@Cf@Ep@Ab@AZAn@A|@?l@@d@@d@@j@B`@?FBf@?@Dj@JdAJfALlAJxABp@Fz@B|@Dt@@R@R@TBt@B|@?r@?~@At@C|@Ad@Er@Ej@Eh@Gv@Gl@y@lHUfB[|AGb@EXEf@Gd@Gp@g@rESdDGtAGfCE|A?b@CnB?hB@jC@rABdCBlAHxAHhANxALfARtAHXHf@Jr@L~@JnA@T@TBt@@z@Av@CbBEx@EnACfAA~BB|CAfDAtA?~AGrG?DAlADnAAdBAhAKxBC\\\\Kz@It@Kx@GZGd@Qt@Ol@Op@Sl@Up@K\\\\A@Sl@Wn@O^Wf@OVOVU^QTOTW^W^UX]`@YZUT[XOPWRQNWPMJSLMJMHUNkEnC_Aj@yBrAyH|EiAp@eEhCIFsD~BaHhE[ROJu@d@A?[R}@h@_BbAeAp@SLiAt@g@\\\\EBqBvAIFgAv@{@t@[X[X[XONCB]\\\\[ZeBhBIJs@r@EFq@p@uAxAEB_A`AYXMHWPGFq@t@e@f@UVUNSPEDQLIHa@ZWRIHEFe@f@ST]\\\\WXa@`@MLILEFk@h@i@n@u@v@cAfAq@t@w@v@i@f@c@d@_@\\\\OHIF]\\\\cAdAyD|DaCjCyAbBe@l@o@~@y@lAoB`DoAhCkAxCiAvB]p@ELYh@ABc@n@KPEVaDbGg@`AOTwB~DaCpEMVMR?@qArB_CpE}@dBy@~AABEFiAtB_@n@cBdDq@|@EHCDY`@ML_@b@ABc@b@e@b@o@d@q@b@SJ_@PIBMDgCfAq@Tq@RmA^aDz@[FUDSDK@O?m@FgBHyBDiDMeDYcE{@mCUsBCS@aABaBFgB^oAb@_@Ta@VSNgAr@oA`Aa@\\\\OLMJa@\\\\{@`A]d@KRMK'}, 'start_location': {'lat': -33.8735668, 'lng': 151.2069088}, 'transit_details': {'arrival_stop': {'location': {'lat': -33.8175443, 'lng': 151.0054982}, 'name': 'Parramatta'}, 'arrival_time': {'text': '4:44\\u202fPM', 'time_zone': 'Australia/Sydney', 'value': 1744699470}, 'departure_stop': {'location': {'lat': -33.8735668, 'lng': 151.2069088}, 'name': 'Town Hall'}, 'departure_time': {'text': '4:15\\u202fPM', 'time_zone': 'Australia/Sydney', 'value': 1744697700}, 'headsign': 'Penrith via Central', 'line': {'agencies': [{'name': 'Sydney Trains', 'url': 'https://transportnsw.info/'}], 'color': '#f2991b', 'name': 'Berowra and Hornsby to City via Gordon', 'short_name': 'T1', 'text_color': '#ffffff', 'vehicle': {'icon': '//maps.gstatic.com/mapfiles/transit/iw2/6/rail2.png', 'local_icon': '//maps.gstatic.com/mapfiles/transit/iw2/6/au-sydney-train.png', 'name': 'Train', 'type': 'HEAVY_RAIL'}}, 'num_stops': 4}, 'travel_mode': 'TRANSIT'}, {'distance': {'text': '0.5 km', 'value': 527}, 'duration': {'text': '9 mins', 'value': 532}, 'end_location': {'lat': -33.8148242, 'lng': 151.0017686}, 'html_instructions': 'Walk to Parramatta NSW 2150, Australia', 'polyline': {'points': 'r~kmEkgtx[sBjD?AIEERCNAHGXGZCLAD?@CLG^CRERALAFAJKFMFSHGBEBGBMDq@JmAPE@EBKHMFIFOBG@E?E?IACNAHGf@Kr@YnB'}, 'start_location': {'lat': -33.8175443, 'lng': 151.0054982}, 'steps': [{'distance': {'text': '1 m', 'value': 0}, 'duration': {'text': '1 min', 'value': 75}, 'end_location': {'lat': -33.8175443, 'lng': 151.0054982}, 'polyline': {'points': 'r~kmEkgtx['}, 'start_location': {'lat': -33.8175443, 'lng': 151.0054982}, 'travel_mode': 'WALKING'}, {'distance': {'text': '1 m', 'value': 0}, 'duration': {'text': '1 min', 'value': 66}, 'end_location': {'lat': -33.8175443, 'lng': 151.0054982}, 'polyline': {'points': 'r~kmEkgtx['}, 'start_location': {'lat': -33.8175443, 'lng': 151.0054982}, 'travel_mode': 'WALKING'}, {'distance': {'text': '0.1 km', 'value': 102}, 'duration': {'text': '1 min', 'value': 63}, 'end_location': {'lat': -33.8169568, 'lng': 151.0046443}, 'html_instructions': 'Take exit <span class=\"location\">Bus Std A2</span>', 'polyline': {'points': 'r~kmEkgtx[sBjD'}, 'start_location': {'lat': -33.8175443, 'lng': 151.0054982}, 'travel_mode': 'WALKING'}, {'building_level': {'number': 0}, 'distance': {'text': '8 m', 'value': 8}, 'duration': {'text': '1 min', 'value': 6}, 'end_location': {'lat': -33.8169108, 'lng': 151.0046841}, 'html_instructions': 'Walk for 8m', 'polyline': {'points': '~zkmEabtx[IE'}, 'start_location': {'lat': -33.8169599, 'lng': 151.0046509}, 'travel_mode': 'WALKING'}, {'distance': {'text': '3 m', 'value': 3}, 'duration': {'text': '1 min', 'value': 2}, 'end_location': {'lat': -33.8169108, 'lng': 151.0046841}, 'html_instructions': 'Head <b>northeast</b> toward <b>Darcy St</b>/<wbr/><b>Parramatta Sq</b><div style=\"font-size:0.9em\">Leaving toll zone</div>', 'polyline': {'points': 'tzkmEgbtx['}, 'start_location': {'lat': -33.8169108, 'lng': 151.0046841}, 'travel_mode': 'WALKING'}, {'distance': {'text': '0.1 km', 'value': 121}, 'duration': {'text': '1 min', 'value': 89}, 'end_location': {'lat': -33.8166036, 'lng': 151.0034729}, 'html_instructions': 'Turn <b>left</b> onto <b>Darcy St</b>/<wbr/><b>Parramatta Sq</b>', 'maneuver': 'turn-left', 'polyline': {'points': 'tzkmEgbtx[ERCNAHGXGZCLAD?@CLG^CRERALAFAJ'}, 'start_location': {'lat': -33.8169108, 'lng': 151.0046841}, 'travel_mode': 'WALKING'}, {'distance': {'text': '0.2 km', 'value': 180}, 'duration': {'text': '2 mins', 'value': 145}, 'end_location': {'lat': -33.815075, 'lng': 151.0029162}, 'html_instructions': 'Turn <b>right</b> onto <b>Church St</b>', 'maneuver': 'turn-right', 'polyline': {'points': 'vxkmEuzsx[KFMFSHGBEBGBMDq@JmAPE@EBKHMFIFOBG@E?E?IA'}, 'start_location': {'lat': -33.8166036, 'lng': 151.0034729}, 'travel_mode': 'WALKING'}, {'distance': {'text': '0.1 km', 'value': 113}, 'duration': {'text': '1 min', 'value': 86}, 'end_location': {'lat': -33.8148242, 'lng': 151.0017686}, 'html_instructions': 'Turn <b>left</b> onto <b>Macquarie St</b>', 'maneuver': 'turn-left', 'polyline': {'points': 'fokmEgwsx[CNAHGf@Kr@YnB'}, 'start_location': {'lat': -33.815075, 'lng': 151.0029162}, 'travel_mode': 'WALKING'}], 'travel_mode': 'WALKING'}], 'traffic_speed_entry': [], 'via_waypoint': []}], 'overview_polyline': {'points': 'pzvmEgr{y[`Aa@Db@?Ej@?fCRpCt@l@Dh@Gn@QTIf@]fAeAv@wAz@cAt@i@x@c@`Bk@t@SnCUpAPb@@zB\\\\pFx@`Dn@xA`@vAf@t@^~A~@p@f@`DvEt@d@Z^p@~@vCfEf@n@r@zALd@n@dAv@lAvA`BpAjA~EnDhB~AzDjDtA|Ab@j@fAzA`A`BxArCl@tAxB|FnAfEn@lDj@nDl@xCjAhFbBlHbAfErBbItAfGv@fDf@dCl@bFR`CFpDBfF?~BEpBKzCAfCGpBY`Cs@|Cg@`Be@lAqAlCgBfDu@lB_AtDaAtD_B|Fi@tCYrBGzAE|CDnCRlEj@zG\\\\rDHfBCbCSzCq@fEaAjE]pB[vDGvCDlBNbBd@dELrAXnE?vACjBKjBa@lESzBSnBQdAa@pBe@hBeAzEkAlFaBxGk@`C}@hE_BfGuAbEa@|A[zA_@xB]`CSxBK`DGjEIlEKxEIlBYhDc@fDa@zBcA~D_@hBcAxDqC~J_AvDo@~CiAxFiAdFkAvEyA~EwApDaGtMaAxBqAzBsAxBcD~FuAzBsBrC}FzH{AdCw@~A_AfCg@fBa@dB}A`Ii@jD_@vC[~CiAjLOfA]`Bm@rBy@pBs@zAgAfB}AfBuBxBkExD[\\\\mA|A_@j@aBvC_BfCsA|AyA`B{AhBwBzCe@|@o@tA{ArEu@nBqAdC}@bBsAjDaBrEy@nCyAdHgAfFcCtLg@tCOzAKxAK`D@vDH|B\\\\zDXfDJlBLzCDjABpBAtBEbBY`EaAzIUfB[|AM|@MlAo@dG[zFMdFCrCFnMLfDXbDLfARtAHXTzAXnCH|CEzCKhCEfE@dIInMAlADnACnDOvCUpBStAYzA_@~Ai@~Ay@|Bg@fA_@n@oAjBm@x@w@|@yAtAkAz@}FtDcf@jZcJxFkCdB{B~AcClBcB|AcDfDkHrHe@Zy@|@{@~@i@`@cAx@mAlAuD|DuEdFeDbDYPaBbByD|DaCjCyAbBe@l@iBlCoB`DoAhCkAxCiAvBc@~@[l@o@`AEVaDbGw@vAuG|LqAtB}DvHkC`FcCtEw@fAkAxAe@f@uAhAeAn@i@TuClAcBh@oFzAq@L_@FO?m@FaFNiDMeDYcE{@mCUgCAcDJgB^oAb@aAl@{AbAoCxBa@\\\\{@`Ai@x@MKsBjDIGSfAc@fCCTAJKFa@PMFUH_C\\\\KDYPYJM@OAEXm@jE'}, 'summary': '', 'warnings': ['Walking directions are in beta. Use caution – This route may be missing sidewalks or pedestrian paths.'], 'waypoint_order': []}]\n",
      "{'result': {'verdict': {'inputGranularity': 'PREMISE', 'validationGranularity': 'PREMISE', 'geocodeGranularity': 'PREMISE', 'addressComplete': True, 'hasInferredComponents': True}, 'address': {'formattedAddress': '1600 Amphitheatre Parkway, Mountain View, CA 94043-1351, USA', 'postalAddress': {'regionCode': 'US', 'languageCode': 'en', 'postalCode': '94043-1351', 'administrativeArea': 'CA', 'locality': 'Mountain View', 'addressLines': ['1600 Amphitheatre Pkwy']}, 'addressComponents': [{'componentName': {'text': '1600'}, 'componentType': 'street_number', 'confirmationLevel': 'CONFIRMED'}, {'componentName': {'text': 'Amphitheatre Parkway', 'languageCode': 'en'}, 'componentType': 'route', 'confirmationLevel': 'CONFIRMED', 'spellCorrected': True}, {'componentName': {'text': 'Mountain View', 'languageCode': 'en'}, 'componentType': 'locality', 'confirmationLevel': 'CONFIRMED'}, {'componentName': {'text': 'USA', 'languageCode': 'en'}, 'componentType': 'country', 'confirmationLevel': 'CONFIRMED'}, {'componentName': {'text': '94043'}, 'componentType': 'postal_code', 'confirmationLevel': 'CONFIRMED', 'inferred': True}, {'componentName': {'text': 'CA', 'languageCode': 'en'}, 'componentType': 'administrative_area_level_1', 'confirmationLevel': 'CONFIRMED', 'inferred': True}, {'componentName': {'text': '1351'}, 'componentType': 'postal_code_suffix', 'confirmationLevel': 'CONFIRMED', 'inferred': True}]}, 'geocode': {'location': {'latitude': 37.4220108, 'longitude': -122.084748}, 'plusCode': {'globalCode': '849VCWC8+R4'}, 'bounds': {'low': {'latitude': 37.4220108, 'longitude': -122.084748}, 'high': {'latitude': 37.4220108, 'longitude': -122.084748}}, 'placeId': 'ChIJF4Yf2Ry7j4AR__1AkytDyAE', 'placeTypes': ['street_address']}, 'metadata': {'business': True, 'residential': False}, 'uspsData': {'standardizedAddress': {'firstAddressLine': '1600 AMPHITHEATRE PK'}, 'dpvFootnote': 'A1', 'cassProcessed': True}}, 'responseId': '8357273d-1ace-4185-b39c-1dd046dc6946'}\n"
     ]
    }
   ],
   "source": [
    "\n",
    "import googlemaps\n",
    "from datetime import datetime\n",
    "\n",
    "gmaps = googlemaps.Client(key=maps_key)\n",
    "\n",
    "# Geocoding an address\n",
    "geocode_result = gmaps.geocode('1600 Amphitheatre Parkway, Mountain View, CA')\n",
    "print(geocode_result)\n",
    "\n",
    "# Look up an address with reverse geocoding\n",
    "reverse_geocode_result = gmaps.reverse_geocode((40.714224, -73.961452))\n",
    "print(reverse_geocode_result)\n",
    "\n",
    "# Request directions via public transit\n",
    "now = datetime.now()\n",
    "directions_result = gmaps.directions(\"Sydney Town Hall\",\n",
    "                                     \"Parramatta, NSW\",\n",
    "                                     mode=\"transit\",\n",
    "                                     departure_time=now)\n",
    "print(directions_result)\n",
    "\n",
    "# Validate an address with address validation\n",
    "addressvalidation_result =  gmaps.addressvalidation(['1600 Amphitheatre Pk'], \n",
    "                                                    regionCode='US',\n",
    "                                                    locality='Mountain View', \n",
    "                                                    enableUspsCass=True)\n",
    "print(addressvalidation_result)\n",
    "# # Get an Address Descriptor of a location in the reverse geocoding response\n",
    "# address_descriptor_result = gmaps.reverse_geocode((40.714224, -73.961452), enable_address_descriptor=True)\n"
   ]
  },
  {
   "cell_type": "code",
   "execution_count": 4,
   "metadata": {},
   "outputs": [],
   "source": [
    "class LocalizedRecommenderBase(BaseModel):\n",
    "    history: list[BaseMessageParam | google.GoogleMessageParam] = []\n",
    "    _gmaps: googlemaps.Client = PrivateAttr()\n",
    "\n",
    "    def __init__(self, **data):\n",
    "        super().__init__(**data)\n",
    "        # Initialize Google Maps client with API key from environment variable\n",
    "        self._gmaps = googlemaps.Client(key=maps_key)\n",
    "\n",
    "    async def google_maps_places(self, place_id: str):\n",
    "        \"\"\"\n",
    "        Get details of a place on Google Maps using Places API.\n",
    "        \"\"\"\n",
    "        logger.info(f\"Calling google_maps_places with place_id: {place_id}\")\n",
    "        # The Google Maps client is synchronous, so run in executor for async compatibility\n",
    "        loop = asyncio.get_running_loop()\n",
    "        place_details = await loop.run_in_executor(\n",
    "            None, lambda: self._gmaps.place(place_id=place_id)\n",
    "        )\n",
    "        result = place_details.get(\"result\", {})\n",
    "        logger.info(f\"google_maps_places result: {result}\")\n",
    "        return {\n",
    "            \"opening_hours\": result.get(\"opening_hours\", {}).get(\"weekday_text\", []),\n",
    "            \"rating\": result.get(\"rating\", \"\"),\n",
    "            \"name\": result.get(\"name\", \"\"),\n",
    "        }\n",
    "\n",
    "    async def _google_maps_search(self, latitude: float, longitude: float, query: str):\n",
    "        \"\"\"\n",
    "        Search for places near given coordinates using Places API.\n",
    "        \"\"\"\n",
    "        logger.info(f\"Calling _google_maps_search with latitude: {latitude}, longitude: {longitude}, query: {query}\")\n",
    "        loop = asyncio.get_event_loop()\n",
    "        places_result = await loop.run_in_executor(\n",
    "            None,\n",
    "            lambda: self._gmaps.places_nearby(\n",
    "                location=(latitude, longitude),\n",
    "                keyword=query,\n",
    "                radius=5000  # radius in meters, adjust as needed\n",
    "            ),\n",
    "        )\n",
    "        search_results = places_result.get(\"results\", [])\n",
    "        results = []\n",
    "        for place in search_results:\n",
    "            place_id = place.get(\"place_id\")\n",
    "            if place_id:\n",
    "                details = await self.google_maps_places(place_id)\n",
    "                results.append(details)\n",
    "        logger.info(f\"_google_maps_search results: {results}\")\n",
    "        return results\n",
    "\n",
    "    async def _get_current_date(self):\n",
    "        \"\"\"Get the current date and time.\"\"\"\n",
    "        logger.info(\"Calling _get_current_date\")\n",
    "        loop = asyncio.get_event_loop()\n",
    "        current_date = await loop.run_in_executor(\n",
    "            None, lambda: datetime.now().strftime(\"%Y-%m-%d %H:%M:%S\")\n",
    "        )\n",
    "        logger.info(f\"_get_current_date result: {current_date}\")\n",
    "        return current_date\n",
    "\n",
    "    async def _get_coordinates_from_location(self, location_name: str):\n",
    "        \"\"\"\n",
    "        Get the coordinates of a location using Geocoding API.\n",
    "        \"\"\"\n",
    "        logger.info(f\"Calling _get_coordinates_from_location with location_name: {location_name}\")\n",
    "        loop = asyncio.get_event_loop()\n",
    "        geocode_result = await loop.run_in_executor(\n",
    "            None, lambda: self._gmaps.geocode(location_name)\n",
    "        )\n",
    "        if geocode_result:\n",
    "            location = geocode_result[0][\"geometry\"][\"location\"]\n",
    "            latitude = location[\"lat\"]\n",
    "            longitude = location[\"lng\"]\n",
    "            logger.info(f\"_get_coordinates_from_location result: Latitude: {latitude}, Longitude: {longitude}\")\n",
    "            return f\"Latitude: {latitude}, Longitude: {longitude}\"\n",
    "        else:\n",
    "            logger.warning(\"_get_coordinates_from_location: No location found\")\n",
    "            return \"No location found, ask me about a specific location.\""
   ]
  },
  {
   "cell_type": "code",
   "execution_count": null,
   "metadata": {},
   "outputs": [],
   "source": [
    "class LocalizedRecommenderBaseWithStep(LocalizedRecommenderBase):\n",
    "    @google.call(model=\"gemini-2.0-flash\", stream=True)\n",
    "    @prompt_template(\n",
    "        \"\"\"\n",
    "        SYSTEM:\n",
    "        You are a local guide that recommends the best places to visit in a location.\n",
    "        Use the `_get_current_date` function to get the current date.\n",
    "        Use the `_get_coordinates_from_location` function to get the coordinates of a location if you need it.\n",
    "        Use the `_google_maps_search` function to get the best places to visit in a location based on the users query.\n",
    "\n",
    "        MESSAGES: {self.history}\n",
    "        USER: {question}\n",
    "        \"\"\"\n",
    "    )\n",
    "    async def _step(self, question: str) -> google.GoogleDynamicConfig:\n",
    "        return {\n",
    "            \"tools\": [\n",
    "                self._get_current_date,\n",
    "                self._get_coordinates_from_location,\n",
    "                self._google_maps_search,\n",
    "            ]\n",
    "        }"
   ]
  },
  {
   "cell_type": "code",
   "execution_count": null,
   "metadata": {},
   "outputs": [],
   "source": [
    "class LocalizedRecommender(LocalizedRecommenderBaseWithStep):\n",
    "    async def _get_response(self, question: str):\n",
    "        if not question.strip():\n",
    "            logger.error(\"Empty question passed to _get_response.\")\n",
    "            return\n",
    "        \n",
    "        logger.info(f\"Starting _get_response with question: {question}\")\n",
    "        response = await self._step(question)\n",
    "        logger.info(\"Received response from _step\")\n",
    "\n",
    "        tool_call = None\n",
    "        output = None\n",
    "\n",
    "        async for chunk, tool in response:\n",
    "            if tool:\n",
    "                logger.info(f\"Tool detected: {tool}\")\n",
    "                output = await tool.call()\n",
    "                logger.info(f\"Tool output: {output}\")\n",
    "                tool_call = tool\n",
    "            else:\n",
    "                if chunk.content:\n",
    "                    print(chunk.content, end=\"\", flush=True)\n",
    "\n",
    "        if response.user_message_param:\n",
    "            self.history.append(response.user_message_param)\n",
    "\n",
    "        self.history.append(response.message_param)\n",
    "\n",
    "        if tool_call and output:\n",
    "            logger.info(\"Appending tool call and output to history\")\n",
    "            self.history += response.tool_message_params([(tool_call, str(output))])\n",
    "            return await self._get_response(question)\n",
    "        \n",
    "        logger.info(\"Completed _get_response\")\n",
    "        return\n",
    "\n",
    "    async def run(self):\n",
    "        logger.info(\"Starting run loop\")\n",
    "        while True:\n",
    "            question = input(\"(User): \").strip()\n",
    "            if question.lower() == \"exit\":\n",
    "                logger.info(\"Exiting run loop\")\n",
    "                break\n",
    "\n",
    "            if not question:\n",
    "                print(\"(Assistant): It's quiet in here. Please provide a valid input.\")\n",
    "                logger.warning(\"Empty input detected. Prompting user again.\")\n",
    "                continue\n",
    "\n",
    "            logger.info(f\"Received user question: {question}\")\n",
    "            print(\"(Assistant): \", end=\"\", flush=True)\n",
    "            await self._get_response(question)\n",
    "            print()\n",
    "        logger.info(\"Run loop ended\")"
   ]
  },
  {
   "cell_type": "code",
   "execution_count": 7,
   "metadata": {},
   "outputs": [
    {
     "name": "stderr",
     "output_type": "stream",
     "text": [
      "INFO:googlemaps.client:API queries_quota: 60\n",
      "INFO:__main__:Starting run loop\n",
      "WARNING:__main__:Empty input detected. Prompting user again.\n"
     ]
    },
    {
     "name": "stdout",
     "output_type": "stream",
     "text": [
      "(Assistant): It's quiet in here. Please provide a valid input.\n"
     ]
    },
    {
     "name": "stderr",
     "output_type": "stream",
     "text": [
      "INFO:__main__:Received user question: Where can I get good vegan pizza in the Cape Town city bowl?\n"
     ]
    },
    {
     "name": "stdout",
     "output_type": "stream",
     "text": [
      "(Assistant): "
     ]
    },
    {
     "name": "stderr",
     "output_type": "stream",
     "text": [
      "INFO:__main__:Starting _get_response with question: Where can I get good vegan pizza in the Cape Town city bowl?\n",
      "INFO:__main__:Received response from _step\n",
      "INFO:google_genai.models:AFC is enabled with max remote calls: 10.\n"
     ]
    },
    {
     "name": "stdout",
     "output_type": "stream",
     "text": [
      "\n"
     ]
    },
    {
     "name": "stderr",
     "output_type": "stream",
     "text": [
      "INFO:httpx:HTTP Request: POST https://generativelanguage.googleapis.com/v1beta/models/gemini-2.0-flash:streamGenerateContent?alt=sse \"HTTP/1.1 200 OK\"\n",
      "INFO:google_genai.models:AFC remote call 1 is done.\n",
      "INFO:__main__:Completed _get_response\n"
     ]
    },
    {
     "name": "stdout",
     "output_type": "stream",
     "text": [
      "\n"
     ]
    },
    {
     "name": "stderr",
     "output_type": "stream",
     "text": [
      "INFO:__main__:Received user question: Where can I get good vegan pizza in the Cape Town city center?\n"
     ]
    },
    {
     "name": "stdout",
     "output_type": "stream",
     "text": [
      "(Assistant): "
     ]
    },
    {
     "name": "stderr",
     "output_type": "stream",
     "text": [
      "INFO:__main__:Starting _get_response with question: Where can I get good vegan pizza in the Cape Town city center?\n",
      "INFO:__main__:Received response from _step\n",
      "INFO:google_genai.models:AFC is enabled with max remote calls: 10.\n"
     ]
    },
    {
     "name": "stdout",
     "output_type": "stream",
     "text": [
      "\n"
     ]
    },
    {
     "name": "stderr",
     "output_type": "stream",
     "text": [
      "INFO:httpx:HTTP Request: POST https://generativelanguage.googleapis.com/v1beta/models/gemini-2.0-flash:streamGenerateContent?alt=sse \"HTTP/1.1 400 Bad Request\"\n"
     ]
    },
    {
     "ename": "ClientError",
     "evalue": "400 INVALID_ARGUMENT. {'error': {'code': 400, 'message': 'Unable to submit request because it has an empty text parameter. Add a value to the parameter and try again. Learn more: https://cloud.google.com/vertex-ai/generative-ai/docs/model-reference/gemini', 'status': 'INVALID_ARGUMENT'}}",
     "output_type": "error",
     "traceback": [
      "\u001b[31m---------------------------------------------------------------------------\u001b[39m",
      "\u001b[31mClientError\u001b[39m                               Traceback (most recent call last)",
      "\u001b[36mCell\u001b[39m\u001b[36m \u001b[39m\u001b[32mIn[7]\u001b[39m\u001b[32m, line 2\u001b[39m\n\u001b[32m      1\u001b[39m recommender = LocalizedRecommender(history=[])\n\u001b[32m----> \u001b[39m\u001b[32m2\u001b[39m \u001b[38;5;28;01mawait\u001b[39;00m recommender.run()\n",
      "\u001b[36mCell\u001b[39m\u001b[36m \u001b[39m\u001b[32mIn[6]\u001b[39m\u001b[32m, line 46\u001b[39m, in \u001b[36mLocalizedRecommender.run\u001b[39m\u001b[34m(self)\u001b[39m\n\u001b[32m     44\u001b[39m     logger.info(\u001b[33mf\u001b[39m\u001b[33m\"\u001b[39m\u001b[33mReceived user question: \u001b[39m\u001b[38;5;132;01m{\u001b[39;00mquestion\u001b[38;5;132;01m}\u001b[39;00m\u001b[33m\"\u001b[39m)\n\u001b[32m     45\u001b[39m     \u001b[38;5;28mprint\u001b[39m(\u001b[33m\"\u001b[39m\u001b[33m(Assistant): \u001b[39m\u001b[33m\"\u001b[39m, end=\u001b[33m\"\u001b[39m\u001b[33m\"\u001b[39m, flush=\u001b[38;5;28;01mTrue\u001b[39;00m)\n\u001b[32m---> \u001b[39m\u001b[32m46\u001b[39m     \u001b[38;5;28;01mawait\u001b[39;00m \u001b[38;5;28mself\u001b[39m._get_response(question)\n\u001b[32m     47\u001b[39m     \u001b[38;5;28mprint\u001b[39m()\n\u001b[32m     48\u001b[39m logger.info(\u001b[33m\"\u001b[39m\u001b[33mRun loop ended\u001b[39m\u001b[33m\"\u001b[39m)\n",
      "\u001b[36mCell\u001b[39m\u001b[36m \u001b[39m\u001b[32mIn[6]\u001b[39m\u001b[32m, line 12\u001b[39m, in \u001b[36mLocalizedRecommender._get_response\u001b[39m\u001b[34m(self, question)\u001b[39m\n\u001b[32m     10\u001b[39m tool_call = \u001b[38;5;28;01mNone\u001b[39;00m\n\u001b[32m     11\u001b[39m output = \u001b[38;5;28;01mNone\u001b[39;00m\n\u001b[32m---> \u001b[39m\u001b[32m12\u001b[39m \u001b[38;5;28;01masync\u001b[39;00m \u001b[38;5;28;01mfor\u001b[39;00m chunk, tool \u001b[38;5;129;01min\u001b[39;00m response:\n\u001b[32m     13\u001b[39m     \u001b[38;5;28;01mif\u001b[39;00m tool:\n\u001b[32m     14\u001b[39m         logger.info(\u001b[33mf\u001b[39m\u001b[33m\"\u001b[39m\u001b[33mTool detected: \u001b[39m\u001b[38;5;132;01m{\u001b[39;00mtool\u001b[38;5;132;01m}\u001b[39;00m\u001b[33m\"\u001b[39m)\n",
      "\u001b[36mFile \u001b[39m\u001b[32m/opt/anaconda3/envs/capstone/lib/python3.13/site-packages/mirascope/core/base/stream.py:174\u001b[39m, in \u001b[36mBaseStream.__aiter__.<locals>.generator\u001b[39m\u001b[34m()\u001b[39m\n\u001b[32m    170\u001b[39m \u001b[38;5;28;01massert\u001b[39;00m \u001b[38;5;28misinstance\u001b[39m(\u001b[38;5;28mself\u001b[39m.stream, AsyncGenerator), (\n\u001b[32m    171\u001b[39m     \u001b[33m\"\u001b[39m\u001b[33mStream must be an async generator for __aiter__\u001b[39m\u001b[33m\"\u001b[39m\n\u001b[32m    172\u001b[39m )\n\u001b[32m    173\u001b[39m tool_calls = []\n\u001b[32m--> \u001b[39m\u001b[32m174\u001b[39m \u001b[38;5;28;01masync\u001b[39;00m \u001b[38;5;28;01mfor\u001b[39;00m chunk, tool \u001b[38;5;129;01min\u001b[39;00m \u001b[38;5;28mself\u001b[39m.stream:\n\u001b[32m    175\u001b[39m     \u001b[38;5;28mself\u001b[39m._update_properties(chunk)\n\u001b[32m    176\u001b[39m     \u001b[38;5;28;01mif\u001b[39;00m tool:\n",
      "\u001b[36mFile \u001b[39m\u001b[32m/opt/anaconda3/envs/capstone/lib/python3.13/site-packages/mirascope/core/base/stream.py:409\u001b[39m, in \u001b[36mstream_factory.<locals>.decorator.<locals>.inner_async.<locals>.generator\u001b[39m\u001b[34m()\u001b[39m\n\u001b[32m    406\u001b[39m \u001b[38;5;28;01masync\u001b[39;00m \u001b[38;5;28;01mdef\u001b[39;00m\u001b[38;5;250m \u001b[39m\u001b[34mgenerator\u001b[39m() -> AsyncGenerator[\n\u001b[32m    407\u001b[39m     \u001b[38;5;28mtuple\u001b[39m[_BaseCallResponseChunkT, _BaseToolT | \u001b[38;5;28;01mNone\u001b[39;00m], \u001b[38;5;28;01mNone\u001b[39;00m\n\u001b[32m    408\u001b[39m ]:\n\u001b[32m--> \u001b[39m\u001b[32m409\u001b[39m     \u001b[38;5;28;01masync\u001b[39;00m \u001b[38;5;28;01mfor\u001b[39;00m chunk, tool \u001b[38;5;129;01min\u001b[39;00m handle_stream_async(\n\u001b[32m    410\u001b[39m         \u001b[38;5;28;01mawait\u001b[39;00m create(stream=\u001b[38;5;28;01mTrue\u001b[39;00m, **call_kwargs),\n\u001b[32m    411\u001b[39m         tool_types,\n\u001b[32m    412\u001b[39m         partial_tools=partial_tools,\n\u001b[32m    413\u001b[39m     ):\n\u001b[32m    414\u001b[39m         \u001b[38;5;28;01myield\u001b[39;00m chunk, tool\n",
      "\u001b[36mFile \u001b[39m\u001b[32m/opt/anaconda3/envs/capstone/lib/python3.13/site-packages/mirascope/core/google/_utils/_handle_stream.py:34\u001b[39m, in \u001b[36mhandle_stream_async\u001b[39m\u001b[34m(stream, tool_types, partial_tools)\u001b[39m\n\u001b[32m     24\u001b[39m \u001b[38;5;28;01masync\u001b[39;00m \u001b[38;5;28;01mdef\u001b[39;00m\u001b[38;5;250m \u001b[39m\u001b[34mhandle_stream_async\u001b[39m(\n\u001b[32m     25\u001b[39m     stream: AsyncGenerator[GenerateContentResponse, \u001b[38;5;28;01mNone\u001b[39;00m],\n\u001b[32m     26\u001b[39m     tool_types: \u001b[38;5;28mlist\u001b[39m[\u001b[38;5;28mtype\u001b[39m[GoogleTool]] | \u001b[38;5;28;01mNone\u001b[39;00m = \u001b[38;5;28;01mNone\u001b[39;00m,\n\u001b[32m     27\u001b[39m     partial_tools: \u001b[38;5;28mbool\u001b[39m = \u001b[38;5;28;01mFalse\u001b[39;00m,\n\u001b[32m     28\u001b[39m ) -> AsyncGenerator[\u001b[38;5;28mtuple\u001b[39m[GoogleCallResponseChunk, \u001b[38;5;28;01mNone\u001b[39;00m], \u001b[38;5;28;01mNone\u001b[39;00m]:\n\u001b[32m     29\u001b[39m \u001b[38;5;250m    \u001b[39m\u001b[33;03m\"\"\"\u001b[39;00m\n\u001b[32m     30\u001b[39m \u001b[33;03m    Async iterator over the stream and constructs tools as they are streamed.\u001b[39;00m\n\u001b[32m     31\u001b[39m \n\u001b[32m     32\u001b[39m \u001b[33;03m    Note: google does not currently support streaming tools.\u001b[39;00m\n\u001b[32m     33\u001b[39m \u001b[33;03m    \"\"\"\u001b[39;00m\n\u001b[32m---> \u001b[39m\u001b[32m34\u001b[39m     \u001b[38;5;28;01masync\u001b[39;00m \u001b[38;5;28;01mfor\u001b[39;00m chunk \u001b[38;5;129;01min\u001b[39;00m stream:\n\u001b[32m     35\u001b[39m         \u001b[38;5;28;01myield\u001b[39;00m GoogleCallResponseChunk(chunk=chunk), \u001b[38;5;28;01mNone\u001b[39;00m\n",
      "\u001b[36mFile \u001b[39m\u001b[32m/opt/anaconda3/envs/capstone/lib/python3.13/site-packages/google/genai/models.py:6558\u001b[39m, in \u001b[36mAsyncModels.generate_content_stream.<locals>.async_generator\u001b[39m\u001b[34m(model, contents, config)\u001b[39m\n\u001b[32m   6556\u001b[39m \u001b[38;5;28;01mwhile\u001b[39;00m remaining_remote_calls_afc > \u001b[32m0\u001b[39m:\n\u001b[32m   6557\u001b[39m   i += \u001b[32m1\u001b[39m\n\u001b[32m-> \u001b[39m\u001b[32m6558\u001b[39m   response = \u001b[38;5;28;01mawait\u001b[39;00m \u001b[38;5;28mself\u001b[39m._generate_content_stream(\n\u001b[32m   6559\u001b[39m       model=model, contents=contents, config=config\n\u001b[32m   6560\u001b[39m   )\n\u001b[32m   6561\u001b[39m   logger.info(\u001b[33mf\u001b[39m\u001b[33m'\u001b[39m\u001b[33mAFC remote call \u001b[39m\u001b[38;5;132;01m{\u001b[39;00mi\u001b[38;5;132;01m}\u001b[39;00m\u001b[33m is done.\u001b[39m\u001b[33m'\u001b[39m)\n\u001b[32m   6562\u001b[39m   remaining_remote_calls_afc -= \u001b[32m1\u001b[39m\n",
      "\u001b[36mFile \u001b[39m\u001b[32m/opt/anaconda3/envs/capstone/lib/python3.13/site-packages/google/genai/models.py:5504\u001b[39m, in \u001b[36mAsyncModels._generate_content_stream\u001b[39m\u001b[34m(self, model, contents, config)\u001b[39m\n\u001b[32m   5501\u001b[39m request_dict = _common.convert_to_dict(request_dict)\n\u001b[32m   5502\u001b[39m request_dict = _common.encode_unserializable_types(request_dict)\n\u001b[32m-> \u001b[39m\u001b[32m5504\u001b[39m response_stream = \u001b[38;5;28;01mawait\u001b[39;00m \u001b[38;5;28mself\u001b[39m._api_client.async_request_streamed(\n\u001b[32m   5505\u001b[39m     \u001b[33m'\u001b[39m\u001b[33mpost\u001b[39m\u001b[33m'\u001b[39m, path, request_dict, http_options\n\u001b[32m   5506\u001b[39m )\n\u001b[32m   5508\u001b[39m \u001b[38;5;28;01masync\u001b[39;00m \u001b[38;5;28;01mdef\u001b[39;00m\u001b[38;5;250m \u001b[39m\u001b[34masync_generator\u001b[39m():\n\u001b[32m   5509\u001b[39m   \u001b[38;5;28;01masync\u001b[39;00m \u001b[38;5;28;01mfor\u001b[39;00m response_dict \u001b[38;5;129;01min\u001b[39;00m response_stream:\n",
      "\u001b[36mFile \u001b[39m\u001b[32m/opt/anaconda3/envs/capstone/lib/python3.13/site-packages/google/genai/_api_client.py:725\u001b[39m, in \u001b[36mBaseApiClient.async_request_streamed\u001b[39m\u001b[34m(self, http_method, path, request_dict, http_options)\u001b[39m\n\u001b[32m    714\u001b[39m \u001b[38;5;28;01masync\u001b[39;00m \u001b[38;5;28;01mdef\u001b[39;00m\u001b[38;5;250m \u001b[39m\u001b[34masync_request_streamed\u001b[39m(\n\u001b[32m    715\u001b[39m     \u001b[38;5;28mself\u001b[39m,\n\u001b[32m    716\u001b[39m     http_method: \u001b[38;5;28mstr\u001b[39m,\n\u001b[32m   (...)\u001b[39m\u001b[32m    719\u001b[39m     http_options: Optional[HttpOptionsOrDict] = \u001b[38;5;28;01mNone\u001b[39;00m,\n\u001b[32m    720\u001b[39m ):\n\u001b[32m    721\u001b[39m   http_request = \u001b[38;5;28mself\u001b[39m._build_request(\n\u001b[32m    722\u001b[39m       http_method, path, request_dict, http_options\n\u001b[32m    723\u001b[39m   )\n\u001b[32m--> \u001b[39m\u001b[32m725\u001b[39m   response = \u001b[38;5;28;01mawait\u001b[39;00m \u001b[38;5;28mself\u001b[39m._async_request(http_request=http_request, stream=\u001b[38;5;28;01mTrue\u001b[39;00m)\n\u001b[32m    727\u001b[39m   \u001b[38;5;28;01masync\u001b[39;00m \u001b[38;5;28;01mdef\u001b[39;00m\u001b[38;5;250m \u001b[39m\u001b[34masync_generator\u001b[39m():\n\u001b[32m    728\u001b[39m     \u001b[38;5;28;01masync\u001b[39;00m \u001b[38;5;28;01mfor\u001b[39;00m chunk \u001b[38;5;129;01min\u001b[39;00m response:\n",
      "\u001b[36mFile \u001b[39m\u001b[32m/opt/anaconda3/envs/capstone/lib/python3.13/site-packages/google/genai/_api_client.py:640\u001b[39m, in \u001b[36mBaseApiClient._async_request\u001b[39m\u001b[34m(self, http_request, stream)\u001b[39m\n\u001b[32m    629\u001b[39m   httpx_request = \u001b[38;5;28mself\u001b[39m._async_httpx_client.build_request(\n\u001b[32m    630\u001b[39m       method=http_request.method,\n\u001b[32m    631\u001b[39m       url=http_request.url,\n\u001b[32m   (...)\u001b[39m\u001b[32m    634\u001b[39m       timeout=http_request.timeout,\n\u001b[32m    635\u001b[39m   )\n\u001b[32m    636\u001b[39m   response = \u001b[38;5;28;01mawait\u001b[39;00m \u001b[38;5;28mself\u001b[39m._async_httpx_client.send(\n\u001b[32m    637\u001b[39m       httpx_request,\n\u001b[32m    638\u001b[39m       stream=stream,\n\u001b[32m    639\u001b[39m   )\n\u001b[32m--> \u001b[39m\u001b[32m640\u001b[39m   \u001b[38;5;28;01mawait\u001b[39;00m errors.APIError.raise_for_async_response(response)\n\u001b[32m    641\u001b[39m   \u001b[38;5;28;01mreturn\u001b[39;00m HttpResponse(\n\u001b[32m    642\u001b[39m       response.headers, response \u001b[38;5;28;01mif\u001b[39;00m stream \u001b[38;5;28;01melse\u001b[39;00m [response.text]\n\u001b[32m    643\u001b[39m   )\n\u001b[32m    644\u001b[39m \u001b[38;5;28;01melse\u001b[39;00m:\n",
      "\u001b[36mFile \u001b[39m\u001b[32m/opt/anaconda3/envs/capstone/lib/python3.13/site-packages/google/genai/errors.py:129\u001b[39m, in \u001b[36mAPIError.raise_for_async_response\u001b[39m\u001b[34m(cls, response)\u001b[39m\n\u001b[32m    127\u001b[39m status_code = response.status_code\n\u001b[32m    128\u001b[39m \u001b[38;5;28;01mif\u001b[39;00m \u001b[32m400\u001b[39m <= status_code < \u001b[32m500\u001b[39m:\n\u001b[32m--> \u001b[39m\u001b[32m129\u001b[39m   \u001b[38;5;28;01mraise\u001b[39;00m ClientError(status_code, response_json, response)\n\u001b[32m    130\u001b[39m \u001b[38;5;28;01melif\u001b[39;00m \u001b[32m500\u001b[39m <= status_code < \u001b[32m600\u001b[39m:\n\u001b[32m    131\u001b[39m   \u001b[38;5;28;01mraise\u001b[39;00m ServerError(status_code, response_json, response)\n",
      "\u001b[31mClientError\u001b[39m: 400 INVALID_ARGUMENT. {'error': {'code': 400, 'message': 'Unable to submit request because it has an empty text parameter. Add a value to the parameter and try again. Learn more: https://cloud.google.com/vertex-ai/generative-ai/docs/model-reference/gemini', 'status': 'INVALID_ARGUMENT'}}"
     ]
    }
   ],
   "source": [
    "recommender = LocalizedRecommender(history=[])\n",
    "await recommender.run()"
   ]
  }
 ],
 "metadata": {
  "kernelspec": {
   "display_name": "capstone",
   "language": "python",
   "name": "python3"
  },
  "language_info": {
   "codemirror_mode": {
    "name": "ipython",
    "version": 3
   },
   "file_extension": ".py",
   "mimetype": "text/x-python",
   "name": "python",
   "nbconvert_exporter": "python",
   "pygments_lexer": "ipython3",
   "version": "3.13.3"
  }
 },
 "nbformat": 4,
 "nbformat_minor": 2
}
